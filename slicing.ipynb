{
  "nbformat": 4,
  "nbformat_minor": 0,
  "metadata": {
    "colab": {
      "provenance": []
    },
    "kernelspec": {
      "name": "python3",
      "display_name": "Python 3"
    },
    "language_info": {
      "name": "python"
    }
  },
  "cells": [
    {
      "cell_type": "code",
      "execution_count": 1,
      "metadata": {
        "id": "gPKJ3lJXf9Q6"
      },
      "outputs": [],
      "source": [
        "import numpy as np"
      ]
    },
    {
      "cell_type": "code",
      "source": [
        "\n",
        "matrix = np.array([[1, 2, 3],\n",
        "                  [4, 5, 6],\n",
        "                  [7, 8, 9]])"
      ],
      "metadata": {
        "id": "eXwhOK_LgJSV"
      },
      "execution_count": 3,
      "outputs": []
    },
    {
      "cell_type": "code",
      "source": [
        "\n",
        "subarray1 = matrix[0:2, 1:3]\n",
        "subarray2 = matrix[:, 1]\n",
        "subarray3 = matrix[1, :]\n",
        "\n",
        "print(\"Subarray 1:\")\n",
        "print(subarray1)\n",
        "print(\"Subarray 2:\")\n",
        "print(subarray2)\n",
        "print(\"Subarray 3:\")\n",
        "print(subarray3)"
      ],
      "metadata": {
        "colab": {
          "base_uri": "https://localhost:8080/"
        },
        "id": "jIVzeV0egX9O",
        "outputId": "67deb5f0-6dbf-4eaf-95fb-ed13a2e67c62"
      },
      "execution_count": 4,
      "outputs": [
        {
          "output_type": "stream",
          "name": "stdout",
          "text": [
            "Subarray 1:\n",
            "[[2 3]\n",
            " [5 6]]\n",
            "Subarray 2:\n",
            "[2 5 8]\n",
            "Subarray 3:\n",
            "[4 5 6]\n"
          ]
        }
      ]
    },
    {
      "cell_type": "markdown",
      "source": [
        "#3D array\n"
      ],
      "metadata": {
        "id": "yzEXUSQugj64"
      }
    },
    {
      "cell_type": "code",
      "source": [
        "array_3d = np.array([[[1, 2, 3],\n",
        "                     [4, 5, 6]],\n",
        "                    [[7, 8, 9],\n",
        "                     [10, 11, 12]]])"
      ],
      "metadata": {
        "id": "EcRKoUDCgnLn"
      },
      "execution_count": 5,
      "outputs": []
    },
    {
      "cell_type": "code",
      "source": [
        "subarray1 = array_3d[0, :, :]\n",
        "subarray2 = array_3d[:, 1, :]\n",
        "subarray3 = array_3d[:, :, 2]\n",
        "\n",
        "print(\"Subarray 1:\")\n",
        "print(subarray1)\n",
        "print(\"Subarray 2:\")\n",
        "print(subarray2)\n",
        "print(\"Subarray 3:\")\n",
        "print(subarray3)"
      ],
      "metadata": {
        "colab": {
          "base_uri": "https://localhost:8080/"
        },
        "id": "TLzLDaxKgqJw",
        "outputId": "454018ee-993a-42da-dcd9-15452ed892a7"
      },
      "execution_count": 6,
      "outputs": [
        {
          "output_type": "stream",
          "name": "stdout",
          "text": [
            "Subarray 1:\n",
            "[[1 2 3]\n",
            " [4 5 6]]\n",
            "Subarray 2:\n",
            "[[ 4  5  6]\n",
            " [10 11 12]]\n",
            "Subarray 3:\n",
            "[[ 3  6]\n",
            " [ 9 12]]\n"
          ]
        }
      ]
    }
  ]
}